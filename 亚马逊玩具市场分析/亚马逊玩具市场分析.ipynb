{
 "cells": [
  {
   "cell_type": "markdown",
   "metadata": {},
   "source": [
    "# Amazon玩具市场分析"
   ]
  },
  {
   "cell_type": "markdown",
   "metadata": {},
   "source": [
    "一、数据来源及字段解释"
   ]
  },
  {
   "cell_type": "markdown",
   "metadata": {},
   "source": [
    "数据来源于kaggle:[Toy Products on Amazon](https://www.kaggle.com/PromptCloudHQ/toy-products-on-amazon)         \n",
    "\n",
    "字段含义如下：\n",
    "\n",
    "|   字段名       | 含义     |内容示例  |\n",
    "| ------------- |:-------------:| -----:|\n",
    "| uniq_id    | 交易ID | eac7efa5dbd3d667f26eb3d3ab504464|\n",
    "| product_name     | 产品名称     |   Hornby 2014 Catalogue |\n",
    "| manufacturer | 生产商      |    Hornby |\n",
    "| price    | 价格|£3.42|\n",
    "| number_available_in_stock     | 库存数量     |   5 new |\n",
    "| number_of_reviews | 评论数    |   15 |\n",
    "| number_of_answered_questions    | 提问数量 | 1|\n",
    "| average_review_rating    | 平均评分    |   4.9 out of 5 stars |\n",
    "| amazon_category_and_sub_category | 类别和子类      |  Hobbies > Model Trains & Railway Sets > Rail Vehicles > Trains |\n",
    "| customers_who_bought_this_item_also_bough  | 商品集 |http://www.amazon.co.uk/Hornby-R8150-Catalogue-2015/dp/B00S9SUUBE|\n",
    "| description    | 商品描述   |   Product Description Hornby 2014 Catalogue Box Contains 1 x one catalogue |\n",
    "| product_information | 产品信息   |   Technical Details Item Weight640 g Product Dimensions29.6 x 20.8 x 1 cm |\n",
    "| items_customers_buy_after_viewing_this_item | 浏览后购买商品集    |  http://www.amazon.co.uk/Hornby-R8150-Catalogue-2015/dp/B00S9SUUBE  |\n",
    "| customer_questions_and_answers    | 问题和回答 | Does this catalogue detail all the previous Hornby products please?|\n",
    "| customer_reviews   | 顾客评价   |   Worth Buying For The Pictures Alone |\n",
    "| sellers | 卖家     | {\"seller\"=>{\"Seller_name_1\"=>\"UHD WHOLESALE\", \"Seller_price_1\"=>\"£16.99\"}} |\n",
    "\n"
   ]
  },
  {
   "cell_type": "markdown",
   "metadata": {},
   "source": [
    "二、数据格式转换和清洗"
   ]
  },
  {
   "cell_type": "code",
   "execution_count": 83,
   "metadata": {},
   "outputs": [
    {
     "name": "stdout",
     "output_type": "stream",
     "text": [
      "<class 'pandas.core.frame.DataFrame'>\n",
      "Index: 10000 entries, eac7efa5dbd3d667f26eb3d3ab504464 to 94d18e86e504bee1e392df7e5738b18a\n",
      "Data columns (total 16 columns):\n",
      "product_name                                   10000 non-null object\n",
      "manufacturer                                   9993 non-null object\n",
      "price                                          8565 non-null object\n",
      "number_available_in_stock                      7500 non-null object\n",
      "number_of_reviews                              9982 non-null object\n",
      "number_of_answered_questions                   9235 non-null float64\n",
      "average_review_rating                          9982 non-null object\n",
      "amazon_category_and_sub_category               9310 non-null object\n",
      "customers_who_bought_this_item_also_bought     8938 non-null object\n",
      "description                                    9349 non-null object\n",
      "product_information                            9942 non-null object\n",
      "product_description                            9349 non-null object\n",
      "items_customers_buy_after_viewing_this_item    6935 non-null object\n",
      "customer_questions_and_answers                 914 non-null object\n",
      "customer_reviews                               9979 non-null object\n",
      "sellers                                        6918 non-null object\n",
      "dtypes: float64(1), object(15)\n",
      "memory usage: 1.3+ MB\n",
      "None\n"
     ]
    }
   ],
   "source": [
    "import numpy as np\n",
    "import pandas as pd\n",
    "import matplotlib.pyplot as plt\n",
    "import seaborn as sns\n",
    "import re\n",
    "from efficient_apriori import apriori\n",
    "data=pd.read_csv(r'./amazon_co-ecommerce_sample.csv',index_col='uniq_id')\n",
    "print(data.info())\n"
   ]
  },
  {
   "cell_type": "markdown",
   "metadata": {},
   "source": [
    "从上面我们能看到数据一共有1万条，除product_name字段外都有空值存在。并且一些数值字段的格式是object，而非float，我们要进行相应格式清洗和转换。针对一些字段的空值我们无需做处理，比如库存数量，有些则可以取对应玩具子类的平均值，还有一些则进行删除空值如所属类目和子类。还有一些字段我们需要进行分列比如所属类目和子类，我们更加关注的是这一商品属于哪个具体类别而非它的父类。"
   ]
  },
  {
   "cell_type": "code",
   "execution_count": 75,
   "metadata": {},
   "outputs": [
    {
     "name": "stdout",
     "output_type": "stream",
     "text": [
      "<class 'pandas.core.frame.DataFrame'>\n",
      "Index: 10000 entries, eac7efa5dbd3d667f26eb3d3ab504464 to 94d18e86e504bee1e392df7e5738b18a\n",
      "Data columns (total 18 columns):\n",
      "product_name                                   10000 non-null object\n",
      "manufacturer                                   9993 non-null object\n",
      "price                                          8565 non-null float64\n",
      "number_available_in_stock                      7500 non-null float64\n",
      "number_of_reviews                              9982 non-null float64\n",
      "number_of_answered_questions                   9235 non-null float64\n",
      "average_review_rating                          9982 non-null float64\n",
      "amazon_category_and_sub_category               9310 non-null object\n",
      "customers_who_bought_this_item_also_bought     8938 non-null object\n",
      "description                                    9349 non-null object\n",
      "product_information                            9942 non-null object\n",
      "product_description                            9349 non-null object\n",
      "items_customers_buy_after_viewing_this_item    6935 non-null object\n",
      "customer_questions_and_answers                 914 non-null object\n",
      "customer_reviews                               9979 non-null object\n",
      "sellers                                        6918 non-null object\n",
      "statue_of_product_in_stock                     10000 non-null object\n",
      "smallest_subcategory                           10000 non-null object\n",
      "dtypes: float64(5), object(13)\n",
      "memory usage: 1.4+ MB\n",
      "None\n",
      "             price  number_available_in_stock  number_of_reviews  \\\n",
      "count  8565.000000                7500.000000        9982.000000   \n",
      "mean     20.278002                   7.916933           9.139952   \n",
      "std      46.339949                   8.805777          33.728145   \n",
      "min       0.010000                   1.000000           1.000000   \n",
      "25%       4.990000                   3.000000           1.000000   \n",
      "50%      10.620000                   5.000000           2.000000   \n",
      "75%      19.990000                  10.000000           6.000000   \n",
      "max    2439.000000                  92.000000        1399.000000   \n",
      "\n",
      "       number_of_answered_questions  average_review_rating  \n",
      "count                   9235.000000            9982.000000  \n",
      "mean                       1.834976               4.707283  \n",
      "std                        2.517268               0.372279  \n",
      "min                        1.000000               2.300000  \n",
      "25%                        1.000000               4.500000  \n",
      "50%                        1.000000               5.000000  \n",
      "75%                        2.000000               5.000000  \n",
      "max                       39.000000               5.000000  \n"
     ]
    }
   ],
   "source": [
    "data['price']=data['price'].astype(str).apply(lambda x : re.findall(r\"\\d+.?\\d*|$\",x)[0].replace(',',''))  #将价格的欧元符号去掉，并且去掉数字中的逗号如2，345这样方便将str格式转换为float\n",
    "data['price']=pd.to_numeric(data['price'].apply(lambda x : re.findall(r\"\\d+.?\\d*|$\",x)[0].replace(',','')))\n",
    "data['number_of_reviews']=pd.to_numeric(data['number_of_reviews'].astype(str).apply(lambda x :'' if x=='nan' else x.replace(',','')))\n",
    "data['statue_of_product_in_stock']=data['number_available_in_stock'].astype(str).map(lambda x: x.replace('\\xa0',' ').split(' ')[-1])    #对库存数量字段进行分类，因为库存数量这一字段还包括了库存商品状态\n",
    "data['number_available_in_stock']=data['number_available_in_stock'].astype(str).apply(lambda x:x.split()[0].replace(',','') if x else x)  #分列得到纯数字的库存商品数量\n",
    "data['number_available_in_stock']=pd.to_numeric(data['number_available_in_stock'].apply(lambda x:'' if x=='nan' else x))   \n",
    "data['average_review_rating']=data['average_review_rating'].astype(str).apply(lambda x:x.split()[0].replace(',',''))   #去除字符串“out of 5 stars”留下纯数字\n",
    "data['average_review_rating']=pd.to_numeric(data['average_review_rating'].apply(lambda x:'' if x=='nan' else x))\n",
    "data['smallest_subcategory']=data['amazon_category_and_sub_category'].astype(str).apply(lambda x:   x.split('>')[-1].strip())   #得到最为精准的所属类目\n",
    "print(data.info())\n",
    "print(data.describe())"
   ]
  },
  {
   "cell_type": "markdown",
   "metadata": {},
   "source": [
    "数据格式修改完成后，我们接下来进行数据筛选和空值补充，我们能在上面发现所有数值型数据都没有异常数值，所以我们接下来的主要任务是进行空值补充。"
   ]
  },
  {
   "cell_type": "code",
   "execution_count": 76,
   "metadata": {},
   "outputs": [
    {
     "name": "stdout",
     "output_type": "stream",
     "text": [
      "<class 'pandas.core.frame.DataFrame'>\n",
      "Index: 10000 entries, eac7efa5dbd3d667f26eb3d3ab504464 to 94d18e86e504bee1e392df7e5738b18a\n",
      "Data columns (total 18 columns):\n",
      "product_name                                   10000 non-null object\n",
      "manufacturer                                   10000 non-null object\n",
      "price                                          10000 non-null float64\n",
      "number_available_in_stock                      7500 non-null float64\n",
      "number_of_reviews                              10000 non-null float64\n",
      "number_of_answered_questions                   9235 non-null float64\n",
      "average_review_rating                          10000 non-null float64\n",
      "amazon_category_and_sub_category               9310 non-null object\n",
      "customers_who_bought_this_item_also_bought     8938 non-null object\n",
      "description                                    9349 non-null object\n",
      "product_information                            9942 non-null object\n",
      "product_description                            9349 non-null object\n",
      "items_customers_buy_after_viewing_this_item    6935 non-null object\n",
      "customer_questions_and_answers                 914 non-null object\n",
      "customer_reviews                               9979 non-null object\n",
      "sellers                                        6918 non-null object\n",
      "statue_of_product_in_stock                     10000 non-null object\n",
      "smallest_subcategory                           10000 non-null object\n",
      "dtypes: float64(5), object(13)\n",
      "memory usage: 1.4+ MB\n",
      "None\n"
     ]
    }
   ],
   "source": [
    "data['price']=data['price'].fillna(value=10.62)    #用价格的中位数进行补充\n",
    "data['manufacturer']=data['manufacturer'].fillna(value=data['manufacturer'].value_counts()._stat_axis.values.tolist()[0])  #用生产商中的众数填充空值\n",
    "data['number_of_reviews']=data['number_of_reviews'].fillna(data['number_of_reviews'].mean())\n",
    "data['average_review_rating']=data['average_review_rating'].fillna(data['average_review_rating'].mean())\n",
    "print(data.info())"
   ]
  },
  {
   "cell_type": "markdown",
   "metadata": {},
   "source": [
    "至此数据清洗和格式转换就已经全部完成。"
   ]
  },
  {
   "cell_type": "markdown",
   "metadata": {},
   "source": [
    "# 三、数据挖掘及分析\n",
    "## 1.最受欢迎的玩具类型有哪些？\n"
   ]
  },
  {
   "cell_type": "code",
   "execution_count": 77,
   "metadata": {},
   "outputs": [
    {
     "name": "stdout",
     "output_type": "stream",
     "text": [
      "['Vehicles', 'Toys', 'Science Fiction & Fantasy', 'Bead Art & Jewellery-Making', 'Packs & Sets', 'Dice & Dice Games', 'Balloons', 'Banners', 'Card Games', 'Hand Puppets']\n"
     ]
    },
    {
     "data": {
      "image/png": "[encoded data removed]",
      "text/plain": [
       "<Figure size 1800x432 with 1 Axes>"
      ]
     },
     "metadata": {
      "needs_background": "light"
     },
     "output_type": "display_data"
    }
   ],
   "source": [
    "data_of_popular_categery=data.loc[data['smallest_subcategory']!='nan']['smallest_subcategory'].value_counts().head(10)\n",
    "x=np.arange(10)+1\n",
    "label=data_of_popular_categery._stat_axis.values.tolist()\n",
    "print(label)\n",
    "y=data_of_popular_categery.values.tolist()\n",
    "plt.figure(figsize=(25,6))\n",
    "plt.xlabel('category of toy')\n",
    "plt.title('The top 10 popular toy category',fontsize=20)\n",
    "plt.margins(0.2)\n",
    "plt.subplots_adjust(bottom=0.15)\n",
    "sns.barplot(x,y)\n",
    "sns.barplot(x,y).set(xticklabels=label)\n",
    "for a,b in zip(x,y):\n",
    "    plt.text(a-1, b+15, b, ha='center', va= 'bottom',fontsize=15)\n",
    "plt.show()"
   ]
  },
  {
   "cell_type": "markdown",
   "metadata": {},
   "source": [
    "## 2.在市场上占据主导地位的品牌方有哪些"
   ]
  },
  {
   "cell_type": "code",
   "execution_count": 78,
   "metadata": {},
   "outputs": [
    {
     "name": "stdout",
     "output_type": "stream",
     "text": [
      "['LEGO', 'Disney', 'Oxford Diecast', 'Playmobil', 'Star Wars', 'Mattel', 'Hasbro', 'The Puppet Company', 'MyTinyWorld', 'Corgi']\n"
     ]
    },
    {
     "data": {
      "image/png": "[encoded data removed]",
      "text/plain": [
       "<Figure size 1800x432 with 1 Axes>"
      ]
     },
     "metadata": {
      "needs_background": "light"
     },
     "output_type": "display_data"
    }
   ],
   "source": [
    "data_of_popular_manufacturer=data['manufacturer'].value_counts().head(10)\n",
    "x=np.arange(10)+1\n",
    "label=data_of_popular_manufacturer._stat_axis.values.tolist()\n",
    "print(label)\n",
    "y=data_of_popular_manufacturer.values.tolist()\n",
    "plt.figure(figsize=(25,6))\n",
    "plt.xlabel('category of toy')\n",
    "plt.title('The top 10 popular toy brands',fontsize=20)\n",
    "plt.margins(0.2)\n",
    "plt.subplots_adjust(bottom=0.15)\n",
    "sns.barplot(x,y)\n",
    "sns.barplot(x,y).set(xticklabels=label)\n",
    "for a,b in zip(x,y):\n",
    "    plt.text(a-1, b+15, b, ha='center', va= 'bottom',fontsize=15)\n",
    "plt.show()"
   ]
  },
  {
   "cell_type": "markdown",
   "metadata": {},
   "source": [
    "## 3.根据apriori算法挖掘潜在的物品购买关联"
   ]
  },
  {
   "cell_type": "markdown",
   "metadata": {},
   "source": [
    "我们字段中有\"items_customers_buy_after_viewing_this_item\"和\"items_customers_buy_after_viewing_this_item\"，这样我们就可以得到顾客在同一时间购买的商品组合，将这些商品组合放在一个列表里用efficient-apriori挖掘频繁项集合关联规则。整体流程是先对\"items_customers_buy_after_viewing_this_item\"字段进行清洗得到包含商品名称的列表，然后再往这个列表里加入顾客购买的\"product_name\"，这样就能得到一个完整的商品集，然后利用算法进行挖掘。具体过程如下："
   ]
  },
  {
   "cell_type": "code",
   "execution_count": 79,
   "metadata": {},
   "outputs": [
    {
     "name": "stdout",
     "output_type": "stream",
     "text": [
      "{1: {('15pcs-Miniature-Porcelain-Plate-Colorful-Floral',): 22, ('Alison-Gardiner-Traditional',): 21, ('Amazon-EU-S-%C3%A0-r-l-Amazon-co-uk-Printable',): 32, ('Amscan-International',): 139, ('Battery-Tester-Voltage-Buzzer-Alarm',): 19, ('Birthday-Tropical-Assorted-Qualatex-Balloons',): 45, ('Crafted-Cherry-Wooden-Chess-Draughts',): 21, ('Despicable',): 30, ('Dungeon-Masters-Dungeons-Dragons-Accessories',): 25, ('Dungeon-Masters-Dungeons-Dragons-Rulebooks',): 36, ('Dungeons-Dragons-Players-Handbook-Rulebooks',): 49, ('Fiesta-Crafts-White-Moving-Puppet',): 20, ('Gamewright',): 21, ('Girls-10ml-Glitter-Tattoo-Glue',): 27, ('Glitz-Black-Birthday-Bunting-Banner',): 19, ('Glitz-Blue-Latex-Birthday-Balloons',): 26, ('Glitz-Pink-Latex-Birthday-Balloons',): 25, ('Hanging-Glitz-Prism-Birthday-Decorations',): 30, ('Happy-Birthday-Banner-Banners-Decoration',): 20, ('Hornby-R1167-Flying-Scotsman-Electric',): 23, ('Inflatable',): 30, ('Johnsons-Baby-Extra-Sensitive-Wipes',): 19, ('Johnsons-Extra-Sensitive-Baby-wipes',): 34, ('Kotobukiya',): 22, ('Loom-Bandz-Rainbow-Colours-White',): 19, ('Magic-Gathering-Origins-Deck-Builders',): 29, ('Metal-Spacer-Beads-Silver-Plated',): 20, ('Monster-Manual-Dungeons-Rulebook-Rulebooks',): 31, ('MyTinyWorld',): 51, ('Pampers-Active-Size-Junior-Monthly',): 19, ('Pampers-Baby-Junior-Nappies-Monthly',): 29, ('Pampers-Baby-Nappies-Size-Total',): 18, ('Perfectly-Pink-Party-Birthday-Bunting',): 28, ('Personalised',): 29, ('Playmobil-4783-Collectable',): 19, ('Playmobil-5135-Large-Pirate-Ship',): 20, ('Playmobil-5136-Pirate-Gang',): 22, ('Polyhedral',): 20, ('Q-Workshop-Polyhedral',): 22, ('Ravensburger',): 167, ('Revell-39604-Contacta-Professional',): 42, ('Scalextric',): 87, ('Silver-Hearts-Holographic',): 24, ('SmartDealsPro',): 28, ('The-Creativity',): 20, ('The-Puppet-Company-Finger-Puppets',): 18, ('The-Puppet-Company-Long-Sleeves',): 20, ('The-Puppet-Company-Sleeves-Border',): 19, ('The-Puppet-Company-Sleeves-Giraffe',): 19, ('Thomas-Friends-Trackmaster',): 25, ('Thomas-Friends-Wooden-Railway-Engine',): 18, ('Tommee-Tippee-Sangenic-Compatible',): 38, ('Tournament',): 20, ('Trading-Card-Sleeves-Protectors',): 50, ('Traditional',): 23, ('Transformers',): 77, ('Uninflated',): 18, ('Waddingtons',): 29, ('WaterWipes',): 20, ('Yu-Gi-Oh-Games-Yugis-Legendary-Holiday',): 23, ('Yu-Gi-Oh-Legendary-Collection',): 34, ('Yu-Gi-Oh-Premium-Gold-Booster-Pack',): 32, ('k2-accessories',): 32}, 2: {('Dungeon-Masters-Dungeons-Dragons-Accessories', 'Dungeon-Masters-Dungeons-Dragons-Rulebooks'): 18, ('Dungeon-Masters-Dungeons-Dragons-Accessories', 'Dungeons-Dragons-Players-Handbook-Rulebooks'): 21, ('Dungeon-Masters-Dungeons-Dragons-Rulebooks', 'Dungeons-Dragons-Players-Handbook-Rulebooks'): 33, ('Dungeon-Masters-Dungeons-Dragons-Rulebooks', 'Monster-Manual-Dungeons-Rulebook-Rulebooks'): 25, ('Dungeons-Dragons-Players-Handbook-Rulebooks', 'Monster-Manual-Dungeons-Rulebook-Rulebooks'): 28}, 3: {('Dungeon-Masters-Dungeons-Dragons-Accessories', 'Dungeon-Masters-Dungeons-Dragons-Rulebooks', 'Dungeons-Dragons-Players-Handbook-Rulebooks'): 18, ('Dungeon-Masters-Dungeons-Dragons-Rulebooks', 'Dungeons-Dragons-Players-Handbook-Rulebooks', 'Monster-Manual-Dungeons-Rulebook-Rulebooks'): 24}}\n",
      "\n",
      "[{Dungeon-Masters-Dungeons-Dragons-Rulebooks} -> {Dungeons-Dragons-Players-Handbook-Rulebooks}, {Monster-Manual-Dungeons-Rulebook-Rulebooks} -> {Dungeons-Dragons-Players-Handbook-Rulebooks}, {Dungeon-Masters-Dungeons-Dragons-Accessories, Dungeon-Masters-Dungeons-Dragons-Rulebooks} -> {Dungeons-Dragons-Players-Handbook-Rulebooks}, {Dungeon-Masters-Dungeons-Dragons-Rulebooks, Monster-Manual-Dungeons-Rulebook-Rulebooks} -> {Dungeons-Dragons-Players-Handbook-Rulebooks}]\n"
     ]
    }
   ],
   "source": [
    "def get_tem_list(unsplit_list):\n",
    "    '''\n",
    "    将字段先按“|”进行分割，然后再按“/”进行分割，最终得到\n",
    "    包含商品名称的列表，将之进行返回。\n",
    "    '''\n",
    "    unsplit_list=unsplit_list.split('|')\n",
    "    tem_list=[]\n",
    "    for i in range(len(unsplit_list)):\n",
    "        tem_list.append(unsplit_list[i].split('/')[3].strip())\n",
    "    return tem_list\n",
    "    \n",
    "def get_itemsets_rules(field,min_support,min_confidence):\n",
    "    product_name_list=data.loc[data[field].notnull()]['product_name'].values.tolist()\n",
    "    also_bought_list=data.loc[data[field].notnull()][field].values.tolist()    \n",
    "    total_product_list=[]\n",
    "    for i in range(0,len(also_bought_list)):\n",
    "        tem_list=get_tem_list(also_bought_list[i])\n",
    "        tem_list +=tem_list+[product_name_list[i].strip()]\n",
    "        total_product_list.append(tuple(tem_list))\n",
    "    itemsets,rules=apriori(total_product_list,min_support=min_support,min_confidence=min_confidence)\n",
    "    return itemsets,rules\n",
    "\n",
    "itemsets,rules=get_itemsets_rules('customers_who_bought_this_item_also_bought',min_support=0.002,min_confidence=0.9)\n",
    "print(itemsets)\n",
    "print()\n",
    "print(rules)"
   ]
  },
  {
   "cell_type": "markdown",
   "metadata": {},
   "source": [
    "由于数据量大，我们将支持度设置为0.002也就是说在这1万条数据里只要出现过20次及以上的我们就把它当做频繁项集，然后我们将置信度调整到0.9，意味着两个物品同时出现的概率必须在90%以上我们才愿意相信两者之间的确存在某种隐秘关系，最终我们发现了上面的几个关联规则。接下来我们继续探索购物者浏览过的商品与其之后购买商品是否有关联规则。"
   ]
  },
  {
   "cell_type": "code",
   "execution_count": 80,
   "metadata": {},
   "outputs": [
    {
     "name": "stdout",
     "output_type": "stream",
     "text": [
      "{1: {('12pcs-1-2-inch-Scenery-Landscape',): 14, ('15pcs-Miniature-Porcelain-Plate-Colorful-Floral',): 19, ('Amscan-International',): 81, ('Asmodee-ASMDOBB01EN',): 43, ('Ateam-600pcs-Glitter-Style-S-Clips',): 16, ('BRIO-Rail-Magnetic-Bell-Signal',): 24, ('Bestway-Ocean-Life-122cm',): 18, ('Bicycle-Standard-Index-Playing-Cards',): 15, ('Birthday-Tropical-Assorted-Qualatex-Balloons',): 22, ('Cards-Against-Humanity-UK-edition',): 35, ('Chuggington',): 15, ('Crafted-Cherry-Wooden-Chess-Draughts',): 23, ('Creativity',): 14, ('Dice-spot-pack-10-16mm-diameter-00563',): 14, ('Dungeon-Masters-Dungeons-Dragons-Rulebooks',): 15, ('Dungeons-Dragons-Players-Handbook-Rulebooks',): 53, ('Exploding-Kittens-About-Explosions',): 18, ('Fiesta-Crafts-White-Moving-Puppet',): 18, ('Fiesta-T-2343-Monkey-Puppet',): 32, ('G%C3%BCnther-1159-Childrens-Rainbow-Colours',): 24, ('Girls-10ml-Glitter-Tattoo-Glue',): 24, ('Glitz-Blue-Latex-Birthday-Balloons',): 15, ('Glitz-Pink-Latex-Birthday-Balloons',): 22, ('Hama-Beads-10-000-Bucket',): 29, ('Hanging-Glitz-Prism-Birthday-Decorations',): 17, ('Henbrandt-Sterling-Play-Money',): 14, ('Hornby-R8222-Gauge-Track-Extension',): 30, ('Hornby-R8223-Gauge-Track-Extension',): 17, ('Inflatable',): 27, ('Kotobukiya',): 14, ('LEGO-Superheroes',): 16, ('Lego-Minifigure',): 14, ('Loom-Bandz-Rainbow-Colours-Black',): 15, ('Loom-Bandz-Rainbow-Colours-White',): 15, ('MATCHED-COLOUR-Dice-bulk-dice',): 16, ('MIDNIGHT-VENETIAN-MASQUERADE',): 15, ('Magic-Gathering-2015-Deck-Builders',): 17, ('Magic-Gathering-Origins-Deck-Builders',): 28, ('Monster-Manual-Dungeons-Rulebook-Rulebooks',): 19, ('MyTinyWorld',): 29, ('Orchard-Toys-003-Shopping-List',): 15, ('Party-Bubbles-for-Favour',): 16, ('Perfectly-Pink-Party-Birthday-Bunting',): 18, ('Personalised',): 14, ('Playmobil-5135-Large-Pirate-Ship',): 14, ('Playmobil-5136-Pirate-Gang',): 15, ('Playmobil-5298-Pirates-Skull-Corsair',): 15, ('Playmobil-5493-Christmas-Calendar-Treasure',): 15, ('Playmobil-5494-Christmas-Calendar-Workshop',): 17, ('Polyhedral',): 14, ('Q-Workshop-Polyhedral',): 18, ('Q-Workshop-QWOELV01-Q-workshop-Elven-Bag',): 17, ('Ravensburger',): 132, ('Revell-39604-Contacta-Professional',): 60, ('Scalextric',): 55, ('Schleich-Dragon-Knight-Action-Figure',): 16, ('Silver-Hearts-Holographic',): 28, ('Spirit-of-Air-Super-Rainbow',): 14, ('The-Creativity',): 20, ('The-Puppet-Company-Monsters-Orange',): 14, ('The-Puppet-Company-Sleeves-Border',): 17, ('Thomas-Friends-Take-n-Play-Straight-Curved',): 18, ('Thomas-Friends-Trackmaster',): 22, ('Thomas-Friends-Wooden-Railway-Engine',): 21, ('Trading-Card-Sleeves-Protectors',): 24, ('Transformers',): 54, ('Trival-Pursuit-21289-Trivial-Potter',): 20, ('Wolf-Little-Pigs-Tellatale-Puppet',): 14, ('Woodeyland',): 16, ('Yu-Gi-Oh-Battle-Pack-Giants-Booster',): 14, ('Yu-Gi-Oh-Games-Yugis-Legendary-Holiday',): 25, ('Yu-Gi-Oh-Legendary-Collection',): 23, ('Yu-Gi-Oh-Space-Time-Showdown-Starter-Deck',): 15, ('Yu-Gi-Oh-Super-Starter-Victory-Card',): 16}, 2: {('Dungeon-Masters-Dungeons-Dragons-Rulebooks', 'Dungeons-Dragons-Players-Handbook-Rulebooks'): 15, ('Dungeons-Dragons-Players-Handbook-Rulebooks', 'Monster-Manual-Dungeons-Rulebook-Rulebooks'): 16}}\n",
      "\n",
      "[{Dungeon-Masters-Dungeons-Dragons-Rulebooks} -> {Dungeons-Dragons-Players-Handbook-Rulebooks}, {Monster-Manual-Dungeons-Rulebook-Rulebooks} -> {Dungeons-Dragons-Players-Handbook-Rulebooks}]\n"
     ]
    }
   ],
   "source": [
    "itemsets,rules=get_itemsets_rules('items_customers_buy_after_viewing_this_item',min_support=0.002,min_confidence=0.8)\n",
    "print(itemsets)\n",
    "print()\n",
    "print(rules)"
   ]
  },
  {
   "cell_type": "markdown",
   "metadata": {},
   "source": [
    "我们发现关联规则没有变化，所以最终我们发现了4条关联规则，虽然有些少，但其中也有数据量不够大同时产品名称过于精细所致。毕竟零售行业做关联能发现尿布和啤酒之间有相关性，但是他不会精确到a品牌尿布与b品牌啤酒有相关性，而是会在尿布旁边摆放不同品牌啤酒。"
   ]
  },
  {
   "cell_type": "markdown",
   "metadata": {},
   "source": [
    "## 4.消费者评论情绪分析\n",
    "消费者对一件商品的评分和其评论中所包含的情绪是相关的，如果对本次购物非常满意，那么不仅评分会高在评论里面也会显示出积极正面的情绪。接下来我们将评分所体现的情绪进行分类，然后再对评论进行切词，最后利用朴素贝叶斯分类器进行机器学习。\n",
    "首先我们要来看一下商品评分分布情况："
   ]
  },
  {
   "cell_type": "code",
   "execution_count": 81,
   "metadata": {},
   "outputs": [
    {
     "name": "stdout",
     "output_type": "stream",
     "text": [
      "5.0    5138\n",
      "4.0    1311\n",
      "4.5     718\n",
      "4.8     567\n",
      "4.7     528\n",
      "4.3     407\n",
      "4.6     392\n",
      "4.4     298\n",
      "4.9     237\n",
      "4.2     217\n",
      "4.1     145\n",
      "3.9       7\n",
      "3.6       3\n",
      "3.0       3\n",
      "3.3       2\n",
      "3.5       2\n",
      "3.7       2\n",
      "2.3       1\n",
      "3.8       1\n",
      "Name: average_review_rating, dtype: int64\n"
     ]
    }
   ],
   "source": [
    "data_of_rating_and_reviews=data.loc[(data['customer_reviews'].notnull())&(data['average_review_rating'].notnull())][['average_review_rating','customer_reviews']]\n",
    "print(data_of_rating_and_reviews['average_review_rating'].value_counts())"
   ]
  },
  {
   "cell_type": "markdown",
   "metadata": {},
   "source": [
    "我们发现评分在4分以下的数据极少不具备分析价值对此进行舍弃，然后我们决定按照评分将顾客对商品的满意度分为两类，4-4.9分为“excellent”，5分为“perfect”,试图用机器学习找到顾客在碰到完美产品和满意的产品时，评论发生的些许改变。首先我们队数据进行如下转换："
   ]
  },
  {
   "cell_type": "code",
   "execution_count": 82,
   "metadata": {},
   "outputs": [
    {
     "name": "stdout",
     "output_type": "stream",
     "text": [
      "perfect      5138\n",
      "excellent    4820\n",
      "Name: average_review_rating, dtype: int64\n"
     ]
    }
   ],
   "source": [
    "from nltk.corpus import stopwords \n",
    "from nltk.tokenize import word_tokenize\n",
    "from sklearn.feature_extraction.text import TfidfVectorizer\n",
    "from sklearn.naive_bayes import MultinomialNB\n",
    "from sklearn.model_selection import train_test_split\n",
    "from sklearn import metrics\n",
    "data_of_rating_and_reviews=data_of_rating_and_reviews.loc[(data_of_rating_and_reviews['average_review_rating']>=4)]\n",
    "data_of_rating_and_reviews['average_review_rating']=data_of_rating_and_reviews['average_review_rating'].astype(str)\n",
    "data_of_rating_and_reviews.loc[(data_of_rating_and_reviews['average_review_rating'].isin(['4.0','4.1','4.2','4.3','4.4','4.5','4.6','4.7','4.8','4.9'])), 'average_review_rating']='excellent'\n",
    "data_of_rating_and_reviews.loc[(data_of_rating_and_reviews['average_review_rating']=='5.0'),'average_review_rating']='perfect'\n",
    "print(data_of_rating_and_reviews['average_review_rating'].value_counts())"
   ]
  },
  {
   "cell_type": "markdown",
   "metadata": {},
   "source": [
    "我们能看到相应数据已转换成功，下面我们对数据进行切词处理，并将其分为训练集和测试集，训练贝叶斯分类器，获取模型计算准确率。"
   ]
  },
  {
   "cell_type": "code",
   "execution_count": 70,
   "metadata": {},
   "outputs": [
    {
     "name": "stdout",
     "output_type": "stream",
     "text": [
      "准确率为： 0.6857429718875502\n"
     ]
    }
   ],
   "source": [
    "def get_cut_words_list(uncut_word_list):\n",
    "    word_list=[]\n",
    "    for i in range(len(uncut_word_list)):  \n",
    "        text_with_spaces=''\n",
    "        text_cut=word_tokenize(uncut_word_list[i])\n",
    "        for i in range(len(text_cut)):\n",
    "            text_with_spaces=text_with_spaces+text_cut[i]+' '\n",
    "        word_list.append(text_with_spaces)\n",
    "    return word_list\n",
    "\n",
    "labels=data_of_rating_and_reviews['average_review_rating'].values.tolist()\n",
    "features=get_cut_words_list(data_of_rating_and_reviews['customer_reviews'].values.tolist())\n",
    "train_features,test_features,train_lables,test_lables=train_test_split(features,labels,test_size=0.2)\n",
    "stop_words=stopwords.words('english')\n",
    "tf = TfidfVectorizer(stop_words=stop_words, max_df=0.5)\n",
    "train_features = tf.fit_transform(train_features)\n",
    "test_features = tf.transform(test_features)  # 上面fit过了，这里transform\n",
    "clf = MultinomialNB(alpha=0.001).fit(train_features, train_lables) # 多项式贝叶斯分类器 \n",
    "predicted_lables=clf.predict(test_features)\n",
    "print('准确率为：', metrics.accuracy_score(test_lables, predicted_lables))  # 计算准确率"
   ]
  },
  {
   "cell_type": "markdown",
   "metadata": {},
   "source": [
    "最终得到的预测准确率为0.68左右，准确率不够高，原因在于文本中情感区分度不够高，机器难以细腻地识别非常好与很好之间的些许区别。"
   ]
  },
  {
   "cell_type": "markdown",
   "metadata": {},
   "source": [
    "# 结论\n",
    "1. 我们最终发现了玩具市场上最受欢迎的十大品类:'Vehicles', 'Toys', 'Science Fiction & Fantasy', 'Bead Art & Jewellery-Making', 'Packs & Sets', 'Dice & Dice Games', 'Balloons', 'Banners', 'Card Games', 'Hand Puppets'。        \n",
    "2. 找到了占据市场主导地位的厂商:'LEGO', 'Disney', 'Oxford Diecast', 'Playmobil', 'Star Wars', 'Mattel', 'Hasbro', 'The Puppet Company', 'MyTinyWorld', 'Corgi'。            \n",
    "3. 计算出商品关联规则:{Dungeon-Masters-Dungeons-Dragons-Rulebooks} -> {Dungeons-Dragons-Players-Handbook-Rulebooks}, {Monster-Manual-Dungeons-Rulebook-Rulebooks} -> {Dungeons-Dragons-Players-Handbook-Rulebooks}……             \n",
    "4. 搭建了一个对用户评论中所包含情绪的预测模型,该模型常用于舆情监控。"
   ]
  }
 ],
 "metadata": {
  "kernelspec": {
   "display_name": "Python 3",
   "language": "python",
   "name": "python3"
  },
  "language_info": {
   "codemirror_mode": {
    "name": "ipython",
    "version": 3
   },
   "file_extension": ".py",
   "mimetype": "text/x-python",
   "name": "python",
   "nbconvert_exporter": "python",
   "pygments_lexer": "ipython3",
   "version": "3.7.3"
  }
 },
 "nbformat": 4,
 "nbformat_minor": 4
}
